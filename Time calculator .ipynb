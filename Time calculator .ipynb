{
 "cells": [
  {
   "cell_type": "markdown",
   "metadata": {},
   "source": [
    "### Time calculator"
   ]
  },
  {
   "cell_type": "code",
   "execution_count": 24,
   "metadata": {},
   "outputs": [
    {
     "name": "stdout",
     "output_type": "stream",
     "text": [
      "How many seconds you want to convert: 500000\n",
      "5 day(s) 18 hour(s) 53 minute(s) and 20 second(s)\n"
     ]
    }
   ],
   "source": [
    "def enter_value():\n",
    "    seconds=input(\"How many seconds you want to convert: \")\n",
    "    \n",
    "    if seconds.isnumeric():\n",
    "        return seconds\n",
    "    else:\n",
    "        print(\"Sorry enter value using numbers 0-9.\")\n",
    "        return (enter_value())\n",
    "    \n",
    "    \n",
    "def count_minutes (sec):\n",
    "    return int(sec/60)\n",
    "\n",
    "def count_hours (sec):\n",
    "    return int(sec/3600)\n",
    "\n",
    "def count_days(sec):\n",
    "    return int(sec/86400)\n",
    "\n",
    "\n",
    "\n",
    "def main():\n",
    "    total_seconds= int(enter_value())\n",
    "    if total_seconds<=60:\n",
    "        print (total_seconds, \"seconds\")\n",
    "        \n",
    "    elif total_seconds <=3600:\n",
    "        minutes=count_minutes(total_seconds)\n",
    "        seconds=total_seconds-(minutes*60)\n",
    "        print (minutes , \"minute(s) and\" ,  seconds, \"second(s)\")\n",
    "        \n",
    "    elif total_seconds<=86400:\n",
    "        hours=count_hours(total_seconds)\n",
    "        seconds_remaning=total_seconds-(hours*3600)\n",
    "        \n",
    "        minutes=count_minutes(seconds_remaning)\n",
    "        seconds=seconds_remaning-(minutes*60)\n",
    "        print (hours, \"hour(s)\", minutes , \"minute(s) and\" ,  seconds, \"second(s)\")\n",
    "        \n",
    "\n",
    "    else:\n",
    "        days=count_days(total_seconds)\n",
    "        seconds_remaning=total_seconds-(days*86400)\n",
    "        \n",
    "        hours=count_hours(seconds_remaning)\n",
    "        seconds_remaning=seconds_remaning-(hours*3600)\n",
    "        \n",
    "        minutes=count_minutes(seconds_remaning)\n",
    "        seconds=seconds_remaning-(minutes*60)\n",
    "        print (days, \"day(s)\", hours, \"hour(s)\", minutes , \"minute(s) and\" ,  seconds, \"second(s)\")\n",
    "        \n",
    "    \n",
    "    \n",
    "main()"
   ]
  },
  {
   "cell_type": "code",
   "execution_count": 25,
   "metadata": {},
   "outputs": [
    {
     "name": "stdout",
     "output_type": "stream",
     "text": [
      "enter number of seconds: ten\n",
      "ten\n",
      "Sorry enter value using numbers 0-9.\n",
      "enter number of seconds: 10\n",
      "10\n",
      "10\n",
      "None\n"
     ]
    }
   ],
   "source": [
    "def enter_value():\n",
    "    seconds=input(\"enter number of seconds: \")\n",
    "    print (seconds)\n",
    "    if seconds.isnumeric():\n",
    "        print (seconds)\n",
    "        return seconds\n",
    "    else:\n",
    "        print(\"Sorry enter value using numbers 0-9.\")\n",
    "        enter_value()\n",
    "    \n",
    "        \n",
    "print (enter_value())"
   ]
  },
  {
   "cell_type": "markdown",
   "metadata": {},
   "source": [
    "### Here is an explanation I found on stackoverflow:\n",
    "#### It is returning None because when you recursively call it:..you don't return the value.\n",
    "\n",
    "#### So while the recursion does happen, the return value gets discarded, and then you fall off the end of the function. Falling off the end of the function means that python implicitly returns None.\n",
    "#### So, instead of just calling enter_value () in your if statement, you need to return it:"
   ]
  },
  {
   "cell_type": "code",
   "execution_count": 26,
   "metadata": {},
   "outputs": [
    {
     "name": "stdout",
     "output_type": "stream",
     "text": [
      "enter number of seconds: ten\n",
      "ten\n",
      "Sorry enter value using numbers 0-9.\n",
      "enter number of seconds: 10\n",
      "10\n",
      "10\n",
      "10\n"
     ]
    }
   ],
   "source": [
    "def enter_value():\n",
    "    seconds=input(\"enter number of seconds: \")\n",
    "    print (seconds)\n",
    "    if seconds.isnumeric():\n",
    "        print (seconds)\n",
    "        return seconds\n",
    "    else:\n",
    "        print(\"Sorry enter value using numbers 0-9.\")\n",
    "        return (enter_value())\n",
    "    \n",
    "        \n",
    "print (enter_value())"
   ]
  },
  {
   "cell_type": "code",
   "execution_count": null,
   "metadata": {},
   "outputs": [],
   "source": []
  }
 ],
 "metadata": {
  "kernelspec": {
   "display_name": "Python 3",
   "language": "python",
   "name": "python3"
  },
  "language_info": {
   "codemirror_mode": {
    "name": "ipython",
    "version": 3
   },
   "file_extension": ".py",
   "mimetype": "text/x-python",
   "name": "python",
   "nbconvert_exporter": "python",
   "pygments_lexer": "ipython3",
   "version": "3.7.4"
  }
 },
 "nbformat": 4,
 "nbformat_minor": 2
}
