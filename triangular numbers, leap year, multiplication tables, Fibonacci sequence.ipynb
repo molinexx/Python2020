{
 "cells": [
  {
   "cell_type": "code",
   "execution_count": 10,
   "metadata": {},
   "outputs": [
    {
     "name": "stdout",
     "output_type": "stream",
     "text": [
      "enter number: 40\n",
      "\n",
      "the square root of  40.0 is:  6.3246\n"
     ]
    }
   ],
   "source": [
    "#Suppose that you want to know the square root of n. If you start with almost any approximation,\n",
    "#you can compute a better approximation (closer to the actual answer) \n",
    "#with the following formula:   better = (approx + n/approx)/2\n",
    "#Write a program that gets a number from the user and finds its square root using this approach.\n",
    "\n",
    "number=float(input(\"enter number: \"))\n",
    "found=False\n",
    "aprox=5.0\n",
    "\n",
    "while found==False:\n",
    "    result=0\n",
    "    result=(aprox+(number/aprox))/2\n",
    "    square=result*result\n",
    "    square=round (square,5)\n",
    "    if square==number:\n",
    "        found=True\n",
    "    #print ( result)\n",
    "    aprox=result\n",
    "print (\"\\nthe square root of \", number, \"is: \" , \"%.4f\" % result)\n"
   ]
  },
  {
   "cell_type": "code",
   "execution_count": 1,
   "metadata": {},
   "outputs": [
    {
     "name": "stdout",
     "output_type": "stream",
     "text": [
      "Enter  number only: 121\n",
      "number is not a prime number.\n"
     ]
    }
   ],
   "source": [
    "#Get an integer from the user.\n",
    "#Display whether this is a prime number or not.\n",
    "number=int(input(\"Enter  number only: \"))\n",
    "    \n",
    "two=2\n",
    "result=1    \n",
    "while result!=0 and two<number:  \n",
    "    result=number%two   \n",
    "    if result==0:\n",
    "        print(\"number is not a prime number.\")\n",
    "    two+=1   \n",
    "    \n",
    "if result==1:\n",
    "    print(\"number is prime\")\n",
    "    "
   ]
  },
  {
   "cell_type": "code",
   "execution_count": 25,
   "metadata": {},
   "outputs": [
    {
     "name": "stdout",
     "output_type": "stream",
     "text": [
      "Enter  number : 100\n",
      "List of of the prime number predeceasing (and including) number  100 :\n",
      "----------------------------------------------------------------------\n",
      "97 , 89 , 83 , 79 , 73 , 71 , 67 , 61 , 59 , 53 , 47 , 43 , 41 , 37 , 31 , 29 , 23 , 19 , 17 , 13 , 11 , 7 , 5 , 3 , 2 , 1 , "
     ]
    }
   ],
   "source": [
    "#Get an integer from the user\n",
    "#Display all the prime numbers up to the (and including) number entered by the user.\n",
    "\n",
    "number=int(input(\"Enter  number : \"))\n",
    "print(\"List of of the prime number predeceasing (and including) number \", number,\":\")\n",
    "print(\"-\"*70)\n",
    "for i in range(number):\n",
    "    newnumber=number\n",
    "    two=2\n",
    "    result=1\n",
    "    prime=False\n",
    "    while prime==False and two<newnumber:\n",
    "        result=newnumber%two   \n",
    "        if result==0:\n",
    "            prime=True\n",
    "        two+=1   \n",
    "    \n",
    "    if result==1:\n",
    "        print(newnumber,end=\" , \")\n",
    "    \n",
    "    number-=1\n",
    "    \n"
   ]
  },
  {
   "cell_type": "code",
   "execution_count": 26,
   "metadata": {},
   "outputs": [
    {
     "name": "stdout",
     "output_type": "stream",
     "text": [
      "enter year: 1456\n",
      "1456  is a leap year\n"
     ]
    }
   ],
   "source": [
    "#Get the user to enter a year. Check if this year is a leap year or not.\n",
    "#Also display which rule that you checked held true or not to decide whether this is a leap year or not.\n",
    "year=int(input(\"enter year: \"))\n",
    "result=year%4\n",
    "result2=None\n",
    "result3=None\n",
    "if result==0:\n",
    "    result2=year%100\n",
    "    if result2==0:\n",
    "        result3=year%400\n",
    "        if result3==0:\n",
    "            print(year, \" is a leap year\")\n",
    "        else:\n",
    "            print(year, \" is not a leap year\")\n",
    "    else:\n",
    "        print(year, \" is a leap year\")\n",
    "else:\n",
    "    print(year, \" is not a leap year\")\n"
   ]
  },
  {
   "cell_type": "code",
   "execution_count": 41,
   "metadata": {},
   "outputs": [
    {
     "name": "stdout",
     "output_type": "stream",
     "text": [
      "enter year: 1908\n",
      "Here is a list of all leap years from  1908  till 2017:\n",
      "----------------------------------------------------------------------\n",
      "1908, 1912, 1916, 1920, 1924, 1928, 1932, 1936, 1940, 1944, 1948, 1952, 1956, 1960, 1964, 1968, 1972, 1976, 1980, 1984, 1988, 1992, 1996, 2000, 2004, 2008, 2012, 2016, "
     ]
    }
   ],
   "source": [
    "#Get the user to enter a year. List all the leap years from that year till 2017.\n",
    "\n",
    "year=int(input(\"enter year: \"))\n",
    "print(\"Here is a list of all leap years from \",year, \" till 2017:\")\n",
    "print(\"-\"*70)\n",
    "newyear=year\n",
    "for i in range (2017-year):\n",
    "    notLeap=False\n",
    "    result=newyear%4\n",
    "    result2=None\n",
    "    result3=None\n",
    "    if result==0:\n",
    "        result2=newyear%100\n",
    "        if result2==0:\n",
    "            result3=newyear%400\n",
    "            if result3==0:\n",
    "                print(newyear, end=\", \")\n",
    "            notLeap=True\n",
    "        else:\n",
    "            print(newyear, end=\", \")\n",
    "    notLeap=True\n",
    "    newyear+=1"
   ]
  },
  {
   "cell_type": "code",
   "execution_count": 1,
   "metadata": {},
   "outputs": [
    {
     "name": "stdout",
     "output_type": "stream",
     "text": [
      "enter number you need triangular number for: 45\n",
      "your triangular number is:  1035\n",
      "\n",
      "number:\t\t triangular number:\n",
      "1 \t\t\t 1\n",
      "2 \t\t\t 3\n",
      "3 \t\t\t 6\n",
      "4 \t\t\t 10\n",
      "5 \t\t\t 15\n",
      "6 \t\t\t 21\n",
      "7 \t\t\t 28\n",
      "8 \t\t\t 36\n",
      "9 \t\t\t 45\n",
      "10 \t\t\t 55\n",
      "11 \t\t\t 66\n",
      "12 \t\t\t 78\n",
      "13 \t\t\t 91\n",
      "14 \t\t\t 105\n",
      "15 \t\t\t 120\n",
      "16 \t\t\t 136\n",
      "17 \t\t\t 153\n",
      "18 \t\t\t 171\n",
      "19 \t\t\t 190\n",
      "20 \t\t\t 210\n",
      "21 \t\t\t 231\n",
      "22 \t\t\t 253\n",
      "23 \t\t\t 276\n",
      "24 \t\t\t 300\n",
      "25 \t\t\t 325\n",
      "26 \t\t\t 351\n",
      "27 \t\t\t 378\n",
      "28 \t\t\t 406\n",
      "29 \t\t\t 435\n",
      "30 \t\t\t 465\n",
      "31 \t\t\t 496\n",
      "32 \t\t\t 528\n",
      "33 \t\t\t 561\n",
      "34 \t\t\t 595\n",
      "35 \t\t\t 630\n",
      "36 \t\t\t 666\n",
      "37 \t\t\t 703\n",
      "38 \t\t\t 741\n",
      "39 \t\t\t 780\n",
      "40 \t\t\t 820\n",
      "41 \t\t\t 861\n",
      "42 \t\t\t 903\n",
      "43 \t\t\t 946\n",
      "44 \t\t\t 990\n",
      "45 \t\t\t 1035\n"
     ]
    }
   ],
   "source": [
    "#Get the user to enter a number n up to which s/he needs triangular numbers. \n",
    "#Then print a table going from 0 to n along with the corresponding triangular numbers.\n",
    "#A triangular number or triangle number counts objects arranged in an equilateral triangle, \n",
    "#as in the diagram on the right. The nth triangular number is the number of dots composing a triangle \n",
    "#with n dots on a side, and is equal to the sum of the n natural numbers from 1 to n.\n",
    "\n",
    "number=int(input(\"enter number you need triangular number for: \"))\n",
    "\n",
    "\n",
    "triangularNumber=(number*(number+1))/2\n",
    "print(\"your triangular number is: \",int(triangularNumber))\n",
    "\n",
    "print(\"\\nnumber:\\t\\t triangular number:\")\n",
    "n=1\n",
    "while n<=number:\n",
    "    triangularNumber=(n*(n+1))/2\n",
    "    print(n, \"\\t\\t\\t\", int(triangularNumber ))\n",
    "    n+=1\n",
    "    \n",
    "    \n",
    "    "
   ]
  },
  {
   "cell_type": "code",
   "execution_count": 43,
   "metadata": {},
   "outputs": [
    {
     "name": "stdout",
     "output_type": "stream",
     "text": [
      "    1    2    3    4    5    6    7    8    9   10   11   12\n",
      "    2    4    6    8   10   12   14   16   18   20   22   24\n",
      "    3    6    9   12   15   18   21   24   27   30   33   36\n",
      "    4    8   12   16   20   24   28   32   36   40   44   48\n",
      "    5   10   15   20   25   30   35   40   45   50   55   60\n",
      "    6   12   18   24   30   36   42   48   54   60   66   72\n",
      "    7   14   21   28   35   42   49   56   63   70   77   84\n",
      "    8   16   24   32   40   48   56   64   72   80   88   96\n",
      "    9   18   27   36   45   54   63   72   81   90   99  108\n",
      "   10   20   30   40   50   60   70   80   90  100  110  120\n",
      "   11   22   33   44   55   66   77   88   99  110  121  132\n",
      "   12   24   36   48   60   72   84   96  108  120  132  144\n"
     ]
    }
   ],
   "source": [
    "#Print multiplication tables for 1 through 12.\n",
    "\n",
    "num1=1\n",
    "for row in range(12): \n",
    "    num2=1\n",
    "    for col in range (1,13):\n",
    "        print ( \"% 5.0f\" % (num1*num2) ,end=\"\")\n",
    "        num2+=1\n",
    "    print()   \n",
    "    num1+=1\n"
   ]
  },
  {
   "cell_type": "code",
   "execution_count": 33,
   "metadata": {
    "scrolled": false
   },
   "outputs": [
    {
     "name": "stdout",
     "output_type": "stream",
     "text": [
      "3 + 5 + 6 + 9 + 10 + 12 + 15 + 18 + 20 + 21 + 24 + 25 + 27 + 30 + 33 + 35 + 36 + 39 + 40 + 42 + 45 + 48 + 50 + 51 + 54 + 55 + 57 + 60 + 63 + 65 + 66 + 69 + 70 + 72 + 75 + 78 + 80 + 81 + 84 + 85 + 87 + 90 + 93 + 95 + 96 + 99 + 100 + 102 + 105 + 108 + 110 + 111 + 114 + 115 + 117 + 120 + 123 + 125 + 126 + 129 + 130 + 132 + 135 + 138 + 140 + 141 + 144 + 145 + 147 + 150 + 153 + 155 + 156 + 159 + 160 + 162 + 165 + 168 + 170 + 171 + 174 + 175 + 177 + 180 + 183 + 185 + 186 + 189 + 190 + 192 + 195 + 198 + 200 + 201 + 204 + 205 + 207 + 210 + 213 + 215 + 216 + 219 + 220 + 222 + 225 + 228 + 230 + 231 + 234 + 235 + 237 + 240 + 243 + 245 + 246 + 249 + 250 + 252 + 255 + 258 + 260 + 261 + 264 + 265 + 267 + 270 + 273 + 275 + 276 + 279 + 280 + 282 + 285 + 288 + 290 + 291 + 294 + 295 + 297 + 300 + 303 + 305 + 306 + 309 + 310 + 312 + 315 + 318 + 320 + 321 + 324 + 325 + 327 + 330 + 333 + 335 + 336 + 339 + 340 + 342 + 345 + 348 + 350 + 351 + 354 + 355 + 357 + 360 + 363 + 365 + 366 + 369 + 370 + 372 + 375 + 378 + 380 + 381 + 384 + 385 + 387 + 390 + 393 + 395 + 396 + 399 + 400 + 402 + 405 + 408 + 410 + 411 + 414 + 415 + 417 + 420 + 423 + 425 + 426 + 429 + 430 + 432 + 435 + 438 + 440 + 441 + 444 + 445 + 447 + 450 + 453 + 455 + 456 + 459 + 460 + 462 + 465 + 468 + 470 + 471 + 474 + 475 + 477 + 480 + 483 + 485 + 486 + 489 + 490 + 492 + 495 + 498 + 500 + 501 + 504 + 505 + 507 + 510 + 513 + 515 + 516 + 519 + 520 + 522 + 525 + 528 + 530 + 531 + 534 + 535 + 537 + 540 + 543 + 545 + 546 + 549 + 550 + 552 + 555 + 558 + 560 + 561 + 564 + 565 + 567 + 570 + 573 + 575 + 576 + 579 + 580 + 582 + 585 + 588 + 590 + 591 + 594 + 595 + 597 + 600 + 603 + 605 + 606 + 609 + 610 + 612 + 615 + 618 + 620 + 621 + 624 + 625 + 627 + 630 + 633 + 635 + 636 + 639 + 640 + 642 + 645 + 648 + 650 + 651 + 654 + 655 + 657 + 660 + 663 + 665 + 666 + 669 + 670 + 672 + 675 + 678 + 680 + 681 + 684 + 685 + 687 + 690 + 693 + 695 + 696 + 699 + 700 + 702 + 705 + 708 + 710 + 711 + 714 + 715 + 717 + 720 + 723 + 725 + 726 + 729 + 730 + 732 + 735 + 738 + 740 + 741 + 744 + 745 + 747 + 750 + 753 + 755 + 756 + 759 + 760 + 762 + 765 + 768 + 770 + 771 + 774 + 775 + 777 + 780 + 783 + 785 + 786 + 789 + 790 + 792 + 795 + 798 + 800 + 801 + 804 + 805 + 807 + 810 + 813 + 815 + 816 + 819 + 820 + 822 + 825 + 828 + 830 + 831 + 834 + 835 + 837 + 840 + 843 + 845 + 846 + 849 + 850 + 852 + 855 + 858 + 860 + 861 + 864 + 865 + 867 + 870 + 873 + 875 + 876 + 879 + 880 + 882 + 885 + 888 + 890 + 891 + 894 + 895 + 897 + 900 + 903 + 905 + 906 + 909 + 910 + 912 + 915 + 918 + 920 + 921 + 924 + 925 + 927 + 930 + 933 + 935 + 936 + 939 + 940 + 942 + 945 + 948 + 950 + 951 + 954 + 955 + 957 + 960 + 963 + 965 + 966 + 969 + 970 + 972 + 975 + 978 + 980 + 981 + 984 + 985 + 987 + 990 + 993 + 995 + 996 + 999= 233165\n"
     ]
    }
   ],
   "source": [
    "#If we list all the natural numbers below 10 that are multiples of 3 or 5, we get 3, 5, 6 and 9. \n",
    "#The sum of these multiples is 23. Find the sum of all the multiples of 3 or 5 below 1000.\n",
    "#Also, show your output in this format:   3 + 5 + 6 + 9 = 23\n",
    "number=4\n",
    "stop=False\n",
    "total=0\n",
    "print(\"3\",end=\"\")\n",
    "while number<1000:\n",
    "    if number%3==0 or number%5==0:\n",
    "        print(\" +\",number,end=\"\")\n",
    "        \n",
    "        total+=number\n",
    "    else:\n",
    "        stop==True\n",
    "    number+=1\n",
    "print (\"=\",total)\n"
   ]
  },
  {
   "cell_type": "code",
   "execution_count": 36,
   "metadata": {},
   "outputs": [
    {
     "name": "stdout",
     "output_type": "stream",
     "text": [
      "1, 2, 3, 5, 8, 13, 21, 34, 55, 89, 144, 233, 377, 610, 987,  \n",
      "\n",
      "The total of all even-valued terms is:  798\n"
     ]
    }
   ],
   "source": [
    "#Each new term in the Fibonacci sequence is generated by adding the previous two terms. \n",
    "#By starting with 1 and 2, the first 10 terms will be: 1, 2, 3, 5, 8, 13, 21, 34, 55, 89, …\n",
    "#By considering the terms in the Fibonacci sequence whose values do not exceed 1000, find the sum of the even-valued terms.\n",
    "grandTotal=0\n",
    "num1=1\n",
    "num2=1\n",
    "total=1\n",
    "while total<1000:\n",
    "    print(total, end=\", \")\n",
    "    total=num1+num2\n",
    "    num1=num2\n",
    "    num2=total\n",
    "    if total%2==0:\n",
    "        grandTotal+=total\n",
    "print (\" \\n\\nThe total of all even-valued terms is: \", grandTotal)"
   ]
  },
  {
   "cell_type": "code",
   "execution_count": 37,
   "metadata": {},
   "outputs": [
    {
     "name": "stdout",
     "output_type": "stream",
     "text": [
      "1, 2, 3, 5, 8, 13, 21, 34, 55, 89, "
     ]
    }
   ],
   "source": [
    "num1=1\n",
    "num2=1\n",
    "total=1\n",
    "while total<100:\n",
    "    print(total, end=\", \")\n",
    "    total=num1+num2\n",
    "    num1=num2\n",
    "    num2=total\n",
    "        \n"
   ]
  },
  {
   "cell_type": "code",
   "execution_count": 2,
   "metadata": {},
   "outputs": [
    {
     "name": "stdout",
     "output_type": "stream",
     "text": [
      "amicable numbers below 1000 are:  220  and  284\n",
      "amicable numbers below 1000 are:  284  and  220\n",
      "amicable numbers below 1000 are:  1184  and  1210\n",
      "amicable numbers below 1000 are:  1210  and  1184\n",
      "end\n"
     ]
    }
   ],
   "source": [
    "#9 extra\n",
    "#Let d(n) be defined as the sum of proper divisors of n (numbers less than n which divide evenly into n).\n",
    "#If d(a) = b and d(b) = a, where a ≠ b, then a and b are an amicable pair and each of a and b are called amicable numbers.\n",
    "#For example, the proper divisors of 220 are 1, 2, 4, 5, 10, 11, 20, 22, 44, 55 and 110; therefore d(220) = 284. \n",
    "#The proper divisors of 284 are 1, 2, 4, 71 and 142; so d(284) = 220.\n",
    "#Evaluate all pairs of amicable numbers under 1000.\n",
    "\n",
    "#it works but takes some time.... 3 minutes for maxNumber=1000, even longer for 15000\n",
    "n=1\n",
    "maxNumber=1500\n",
    "while n<maxNumber:       \n",
    "    \n",
    "    count=1\n",
    "    dn=0\n",
    "    while count<n:\n",
    "        result=n%count\n",
    "        if result==0:\n",
    "            dn+=count\n",
    "        count+=1\n",
    "    #print (n, dn)\n",
    "        \n",
    "    m=1\n",
    "    while m<maxNumber:\n",
    "        count2=1\n",
    "        dm=0\n",
    "        while count2<m:\n",
    "            result2=m%count2\n",
    "            if result2==0:\n",
    "                dm+=count2       \n",
    "            count2+=1\n",
    "            \n",
    "               \n",
    "        #print(\"n= \",n,\"dn=\", dn, \"m=\",m, \"dm=\",dm)\n",
    "        if dn==m and dm==n and n!=dn:\n",
    "            print (\"amicable numbers below \",maxNumber,\" are: \", n,\" and \" ,m)\n",
    "        m+=1\n",
    "     \n",
    "    n+=1\n",
    "print(\"end\")\n",
    "    \n",
    "    \n",
    "    "
   ]
  },
  {
   "cell_type": "code",
   "execution_count": 1,
   "metadata": {},
   "outputs": [
    {
     "name": "stdout",
     "output_type": "stream",
     "text": [
      "amicable numbers below 1000 are:  220  and  284\n",
      "amicable numbers below 1000 are:  284  and  220\n",
      "amicable numbers below 1000 are:  1184  and  1210\n",
      "amicable numbers below 1000 are:  1210  and  1184\n",
      "amicable numbers below 1000 are:  2620  and  2924\n",
      "amicable numbers below 1000 are:  2924  and  2620\n",
      "amicable numbers below 1000 are:  5020  and  5564\n",
      "amicable numbers below 1000 are:  5564  and  5020\n",
      "amicable numbers below 1000 are:  6232  and  6368\n",
      "amicable numbers below 1000 are:  6368  and  6232\n",
      "amicable numbers below 1000 are:  10744  and  10856\n",
      "amicable numbers below 1000 are:  10856  and  10744\n",
      "amicable numbers below 1000 are:  12285  and  14595\n",
      "amicable numbers below 1000 are:  14595  and  12285\n",
      "amicable numbers below 1000 are:  17296  and  18416\n",
      "amicable numbers below 1000 are:  18416  and  17296\n",
      "****END****\n"
     ]
    }
   ],
   "source": [
    "#9 faster version (much faster...)\n",
    "maxNumber=20000\n",
    "n=1\n",
    "while n<maxNumber:\n",
    "    count=1\n",
    "    dn=0\n",
    "    while count<n:\n",
    "        result=n%count\n",
    "        if result==0:\n",
    "            dn+=count\n",
    "        count+=1\n",
    "    #print (\"n=\",n,\"dn=\",dn)         \n",
    "    m=dn\n",
    "    count2=1\n",
    "    dm=0\n",
    "    while count2<m:\n",
    "        result2=m%count2\n",
    "        if result2==0:\n",
    "            dm+=count2       \n",
    "        count2+=1\n",
    "            \n",
    "    if dn==m and dm==n and n!=dn:\n",
    "            print (\"amicable numbers below 1000 are: \", n,\" and \" ,m)\n",
    "    n+=1\n",
    "print(\"****END****\")"
   ]
  },
  {
   "cell_type": "code",
   "execution_count": null,
   "metadata": {},
   "outputs": [],
   "source": [
    "#10 extra\n",
    "#The decimal number, 585 = 1001001001 (binary), is palindromic in both bases.\n",
    "#Find all numbers under 1000 that are palindromic in base 10 and base 2.\n",
    "#(Please note that the palindromic number, in either base, may not include leading zeros.)\n",
    "\n"
   ]
  }
 ],
 "metadata": {
  "kernelspec": {
   "display_name": "Python 3",
   "language": "python",
   "name": "python3"
  },
  "language_info": {
   "codemirror_mode": {
    "name": "ipython",
    "version": 3
   },
   "file_extension": ".py",
   "mimetype": "text/x-python",
   "name": "python",
   "nbconvert_exporter": "python",
   "pygments_lexer": "ipython3",
   "version": "3.7.4"
  }
 },
 "nbformat": 4,
 "nbformat_minor": 2
}
